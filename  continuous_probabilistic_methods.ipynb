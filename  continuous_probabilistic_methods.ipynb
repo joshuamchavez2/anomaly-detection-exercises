{
 "cells": [
  {
   "cell_type": "code",
   "execution_count": 4,
   "id": "b505528b",
   "metadata": {},
   "outputs": [],
   "source": [
    "import pandas as pd\n",
    "import numpy as np\n",
    "import matplotlib.pyplot as plt\n",
    "\n",
    "import math\n",
    "import scipy\n",
    "import seaborn as sns\n",
    "import itertools"
   ]
  },
  {
   "cell_type": "markdown",
   "id": "b5532394",
   "metadata": {},
   "source": [
    "# Using lemonade.csv dataset and focusing on continuous variables:"
   ]
  },
  {
   "cell_type": "code",
   "execution_count": 5,
   "id": "507a875c",
   "metadata": {},
   "outputs": [],
   "source": [
    "df = pd.read_csv(\"lemonade.csv\")"
   ]
  },
  {
   "cell_type": "code",
   "execution_count": 6,
   "id": "2f13d81f",
   "metadata": {},
   "outputs": [
    {
     "data": {
      "text/html": [
       "<div>\n",
       "<style scoped>\n",
       "    .dataframe tbody tr th:only-of-type {\n",
       "        vertical-align: middle;\n",
       "    }\n",
       "\n",
       "    .dataframe tbody tr th {\n",
       "        vertical-align: top;\n",
       "    }\n",
       "\n",
       "    .dataframe thead th {\n",
       "        text-align: right;\n",
       "    }\n",
       "</style>\n",
       "<table border=\"1\" class=\"dataframe\">\n",
       "  <thead>\n",
       "    <tr style=\"text-align: right;\">\n",
       "      <th></th>\n",
       "      <th>Date</th>\n",
       "      <th>Day</th>\n",
       "      <th>Temperature</th>\n",
       "      <th>Rainfall</th>\n",
       "      <th>Flyers</th>\n",
       "      <th>Price</th>\n",
       "      <th>Sales</th>\n",
       "    </tr>\n",
       "  </thead>\n",
       "  <tbody>\n",
       "    <tr>\n",
       "      <th>0</th>\n",
       "      <td>1/1/17</td>\n",
       "      <td>Sunday</td>\n",
       "      <td>27.0</td>\n",
       "      <td>2.00</td>\n",
       "      <td>15</td>\n",
       "      <td>0.5</td>\n",
       "      <td>10</td>\n",
       "    </tr>\n",
       "    <tr>\n",
       "      <th>1</th>\n",
       "      <td>1/2/17</td>\n",
       "      <td>Monday</td>\n",
       "      <td>28.9</td>\n",
       "      <td>1.33</td>\n",
       "      <td>15</td>\n",
       "      <td>0.5</td>\n",
       "      <td>13</td>\n",
       "    </tr>\n",
       "    <tr>\n",
       "      <th>2</th>\n",
       "      <td>1/3/17</td>\n",
       "      <td>Tuesday</td>\n",
       "      <td>34.5</td>\n",
       "      <td>1.33</td>\n",
       "      <td>27</td>\n",
       "      <td>0.5</td>\n",
       "      <td>15</td>\n",
       "    </tr>\n",
       "  </tbody>\n",
       "</table>\n",
       "</div>"
      ],
      "text/plain": [
       "     Date      Day  Temperature  Rainfall  Flyers  Price  Sales\n",
       "0  1/1/17   Sunday         27.0      2.00      15    0.5     10\n",
       "1  1/2/17   Monday         28.9      1.33      15    0.5     13\n",
       "2  1/3/17  Tuesday         34.5      1.33      27    0.5     15"
      ]
     },
     "execution_count": 6,
     "metadata": {},
     "output_type": "execute_result"
    }
   ],
   "source": [
    "df.head(3)"
   ]
  },
  {
   "cell_type": "code",
   "execution_count": 7,
   "id": "bf861789",
   "metadata": {},
   "outputs": [
    {
     "name": "stdout",
     "output_type": "stream",
     "text": [
      "<class 'pandas.core.frame.DataFrame'>\n",
      "RangeIndex: 365 entries, 0 to 364\n",
      "Data columns (total 7 columns):\n",
      " #   Column       Non-Null Count  Dtype  \n",
      "---  ------       --------------  -----  \n",
      " 0   Date         365 non-null    object \n",
      " 1   Day          365 non-null    object \n",
      " 2   Temperature  365 non-null    float64\n",
      " 3   Rainfall     365 non-null    float64\n",
      " 4   Flyers       365 non-null    int64  \n",
      " 5   Price        365 non-null    float64\n",
      " 6   Sales        365 non-null    int64  \n",
      "dtypes: float64(3), int64(2), object(2)\n",
      "memory usage: 20.1+ KB\n"
     ]
    }
   ],
   "source": [
    "df.info()"
   ]
  },
  {
   "cell_type": "code",
   "execution_count": 8,
   "id": "c20a14fa",
   "metadata": {},
   "outputs": [
    {
     "data": {
      "text/plain": [
       "[('Price', '50%'),\n",
       " ('Price', 'mean'),\n",
       " ('Temperature', '50%'),\n",
       " ('Temperature', 'mean')]"
      ]
     },
     "execution_count": 8,
     "metadata": {},
     "output_type": "execute_result"
    }
   ],
   "source": [
    "list(itertools.product(['Price','Temperature'], ['50%', 'mean']))"
   ]
  },
  {
   "cell_type": "code",
   "execution_count": 9,
   "id": "cacdee98",
   "metadata": {},
   "outputs": [
    {
     "data": {
      "text/html": [
       "<div>\n",
       "<style scoped>\n",
       "    .dataframe tbody tr th:only-of-type {\n",
       "        vertical-align: middle;\n",
       "    }\n",
       "\n",
       "    .dataframe tbody tr th {\n",
       "        vertical-align: top;\n",
       "    }\n",
       "\n",
       "    .dataframe thead tr th {\n",
       "        text-align: left;\n",
       "    }\n",
       "\n",
       "    .dataframe thead tr:last-of-type th {\n",
       "        text-align: right;\n",
       "    }\n",
       "</style>\n",
       "<table border=\"1\" class=\"dataframe\">\n",
       "  <thead>\n",
       "    <tr>\n",
       "      <th></th>\n",
       "      <th colspan=\"2\" halign=\"left\">Price</th>\n",
       "      <th colspan=\"2\" halign=\"left\">Temperature</th>\n",
       "      <th colspan=\"2\" halign=\"left\">Rainfall</th>\n",
       "    </tr>\n",
       "    <tr>\n",
       "      <th></th>\n",
       "      <th>50%</th>\n",
       "      <th>mean</th>\n",
       "      <th>50%</th>\n",
       "      <th>mean</th>\n",
       "      <th>50%</th>\n",
       "      <th>mean</th>\n",
       "    </tr>\n",
       "    <tr>\n",
       "      <th>Sales</th>\n",
       "      <th></th>\n",
       "      <th></th>\n",
       "      <th></th>\n",
       "      <th></th>\n",
       "      <th></th>\n",
       "      <th></th>\n",
       "    </tr>\n",
       "  </thead>\n",
       "  <tbody>\n",
       "    <tr>\n",
       "      <th>7</th>\n",
       "      <td>0.5</td>\n",
       "      <td>0.5</td>\n",
       "      <td>15.1</td>\n",
       "      <td>15.100000</td>\n",
       "      <td>2.50</td>\n",
       "      <td>2.500000</td>\n",
       "    </tr>\n",
       "    <tr>\n",
       "      <th>10</th>\n",
       "      <td>0.5</td>\n",
       "      <td>0.5</td>\n",
       "      <td>24.5</td>\n",
       "      <td>24.500000</td>\n",
       "      <td>1.91</td>\n",
       "      <td>1.910000</td>\n",
       "    </tr>\n",
       "    <tr>\n",
       "      <th>11</th>\n",
       "      <td>0.5</td>\n",
       "      <td>0.5</td>\n",
       "      <td>28.3</td>\n",
       "      <td>28.300000</td>\n",
       "      <td>1.68</td>\n",
       "      <td>1.680000</td>\n",
       "    </tr>\n",
       "    <tr>\n",
       "      <th>12</th>\n",
       "      <td>0.5</td>\n",
       "      <td>0.5</td>\n",
       "      <td>31.1</td>\n",
       "      <td>30.850000</td>\n",
       "      <td>1.54</td>\n",
       "      <td>1.545000</td>\n",
       "    </tr>\n",
       "    <tr>\n",
       "      <th>13</th>\n",
       "      <td>0.5</td>\n",
       "      <td>0.5</td>\n",
       "      <td>30.9</td>\n",
       "      <td>31.677778</td>\n",
       "      <td>1.43</td>\n",
       "      <td>1.456667</td>\n",
       "    </tr>\n",
       "  </tbody>\n",
       "</table>\n",
       "</div>"
      ],
      "text/plain": [
       "      Price      Temperature            Rainfall          \n",
       "        50% mean         50%       mean      50%      mean\n",
       "Sales                                                     \n",
       "7       0.5  0.5        15.1  15.100000     2.50  2.500000\n",
       "10      0.5  0.5        24.5  24.500000     1.91  1.910000\n",
       "11      0.5  0.5        28.3  28.300000     1.68  1.680000\n",
       "12      0.5  0.5        31.1  30.850000     1.54  1.545000\n",
       "13      0.5  0.5        30.9  31.677778     1.43  1.456667"
      ]
     },
     "execution_count": 9,
     "metadata": {},
     "output_type": "execute_result"
    }
   ],
   "source": [
    "# check out the stats with a .describe()\n",
    "df.groupby('Sales').describe()[list(itertools.product(['Price','Temperature', 'Rainfall'], ['50%', 'mean']))].head()"
   ]
  },
  {
   "cell_type": "code",
   "execution_count": 10,
   "id": "e81dc00c",
   "metadata": {},
   "outputs": [
    {
     "data": {
      "text/plain": [
       "<seaborn.axisgrid.FacetGrid at 0x7ff2190c0b80>"
      ]
     },
     "execution_count": 10,
     "metadata": {},
     "output_type": "execute_result"
    },
    {
     "data": {
      "image/png": "[encoded data removed]",
      "text/plain": [
       "<Figure size 2520x360 with 7 Axes>"
      ]
     },
     "metadata": {
      "needs_background": "light"
     },
     "output_type": "display_data"
    }
   ],
   "source": [
    "sns.relplot(x='Sales', y='Temperature', col='Day', data=df)"
   ]
  },
  {
   "cell_type": "markdown",
   "id": "f486d728",
   "metadata": {},
   "source": [
    "Use the IQR Range Rule and the upper and lower bounds to identify the lower outliers of each column of lemonade.csv, using the multiplier of 1.5. Do these lower outliers make sense? Which outliers should be kept?\n",
    "\n",
    "Use the IQR Range Rule and the upper and upper bounds to identify the upper outliers of each column of lemonade.csv, using the multiplier of 1.5. Do these upper outliers make sense? Which outliers should be kept?\n",
    "\n",
    "Using the multiplier of 3, IQR Range Rule, and the lower bounds, identify the outliers below the lower bound in each colum of lemonade.csv. Do these lower outliers make sense? Which outliers should be kept?\n",
    "\n",
    "Using the multiplier of 3, IQR Range Rule, and the upper bounds, identify the outliers above the upper_bound in each colum of lemonade.csv. Do these upper outliers make sense? Which outliers should be kept?\n",
    "\n",
    "Identify if any columns in lemonade.csv are normally distributed. For normally distributed columns:\n",
    "\n",
    "Use a 2 sigma decision rule to isolate the outliers.\n",
    "\n",
    "Do these make sense?\n",
    "\n",
    "\n",
    "\n",
    "# Should certain outliers be kept or removed?\n",
    "\n",
    "\n",
    "\n",
    "# Now use a 3 sigma decision rule to isolate the outliers in the normally distributed columns from lemonade.csv"
   ]
  },
  {
   "cell_type": "code",
   "execution_count": 11,
   "id": "dd76cc78",
   "metadata": {},
   "outputs": [],
   "source": [
    "def get_lower_and_upper_bounds(col, mult=1.5):\n",
    "    '''\n",
    "    positional arguments:\n",
    "    col: a pandas Series\n",
    "    keyword arguments:\n",
    "    mult: default 1.5, the magnutude specified for the IQR rule\n",
    "    \n",
    "    returns:\n",
    "    lower_bound, upper_bound: two float values representing the fence values requested\n",
    "    '''\n",
    "    q1 = col.quantile(0.25)\n",
    "    q3 = col.quantile(0.75)\n",
    "    iqr = q3 - q1\n",
    "    lower_bound = q1 - mult * iqr\n",
    "    upper_bound = q3 + mult * iqr\n",
    "    return lower_bound,upper_bound"
   ]
  },
  {
   "cell_type": "code",
   "execution_count": 12,
   "id": "357cfe3f",
   "metadata": {},
   "outputs": [
    {
     "name": "stdout",
     "output_type": "stream",
     "text": [
      " Lower bound for Temperature : 16.700000000000003\n",
      " Upper bound for Temperature: 104.7\n",
      "\n",
      "-----------------\n",
      " Lower bound for Rainfall : 0.26\n",
      " Upper bound for Rainfall: 1.3\n",
      "\n",
      "-----------------\n",
      " Lower bound for Flyers : 4.0\n",
      " Upper bound for Flyers: 76.0\n",
      "\n",
      "-----------------\n",
      " Lower bound for Price : 0.5\n",
      " Upper bound for Price: 0.5\n",
      "\n",
      "-----------------\n",
      " Lower bound for Sales : 5.0\n",
      " Upper bound for Sales: 45.0\n",
      "\n",
      "-----------------\n"
     ]
    }
   ],
   "source": [
    "get_lower_and_upper_bounds(df.Rainfall)\n",
    "\n",
    "# at a multiplier of 1.5:\n",
    "outliers = {}\n",
    "for col in df.columns:\n",
    "    if np.issubdtype(df[col].dtype, np.number):\n",
    "        lower_bound, upper_bound = get_lower_and_upper_bounds(df[col])\n",
    "        print(f' Lower bound for {col} : {lower_bound}\\n Upper bound for {col}: {upper_bound}\\n')\n",
    "        print('-----------------')\n",
    "        outliers[col] = {}\n",
    "        outliers[col]['bounds'] = {'upper': upper_bound, 'lower': lower_bound}\n",
    "        outliers[col]['df'] = df[(df[col] > upper_bound) | (df[col] < lower_bound)]\n",
    "    else:\n",
    "        pass"
   ]
  },
  {
   "cell_type": "code",
   "execution_count": 14,
   "id": "fcad6ca7",
   "metadata": {},
   "outputs": [
    {
     "data": {
      "text/plain": [
       "dict_keys(['Temperature', 'Rainfall', 'Flyers', 'Price', 'Sales'])"
      ]
     },
     "execution_count": 14,
     "metadata": {},
     "output_type": "execute_result"
    }
   ],
   "source": [
    "outliers.keys()"
   ]
  },
  {
   "cell_type": "code",
   "execution_count": 15,
   "id": "05a5ad8b",
   "metadata": {},
   "outputs": [
    {
     "data": {
      "text/plain": [
       "dict_keys(['bounds', 'df'])"
      ]
     },
     "execution_count": 15,
     "metadata": {},
     "output_type": "execute_result"
    }
   ],
   "source": [
    "outliers['Temperature'].keys()"
   ]
  },
  {
   "cell_type": "code",
   "execution_count": 16,
   "id": "2ceb904e",
   "metadata": {},
   "outputs": [
    {
     "data": {
      "text/html": [
       "<div>\n",
       "<style scoped>\n",
       "    .dataframe tbody tr th:only-of-type {\n",
       "        vertical-align: middle;\n",
       "    }\n",
       "\n",
       "    .dataframe tbody tr th {\n",
       "        vertical-align: top;\n",
       "    }\n",
       "\n",
       "    .dataframe thead th {\n",
       "        text-align: right;\n",
       "    }\n",
       "</style>\n",
       "<table border=\"1\" class=\"dataframe\">\n",
       "  <thead>\n",
       "    <tr style=\"text-align: right;\">\n",
       "      <th></th>\n",
       "      <th>Date</th>\n",
       "      <th>Day</th>\n",
       "      <th>Temperature</th>\n",
       "      <th>Rainfall</th>\n",
       "      <th>Flyers</th>\n",
       "      <th>Price</th>\n",
       "      <th>Sales</th>\n",
       "    </tr>\n",
       "  </thead>\n",
       "  <tbody>\n",
       "    <tr>\n",
       "      <th>41</th>\n",
       "      <td>2/11/17</td>\n",
       "      <td>Saturday</td>\n",
       "      <td>212.0</td>\n",
       "      <td>0.91</td>\n",
       "      <td>35</td>\n",
       "      <td>0.5</td>\n",
       "      <td>21</td>\n",
       "    </tr>\n",
       "  </tbody>\n",
       "</table>\n",
       "</div>"
      ],
      "text/plain": [
       "       Date       Day  Temperature  Rainfall  Flyers  Price  Sales\n",
       "41  2/11/17  Saturday        212.0      0.91      35    0.5     21"
      ]
     },
     "execution_count": 16,
     "metadata": {},
     "output_type": "execute_result"
    }
   ],
   "source": [
    "outliers['Temperature']['df']"
   ]
  },
  {
   "cell_type": "code",
   "execution_count": 17,
   "id": "b0398a76",
   "metadata": {},
   "outputs": [
    {
     "name": "stdout",
     "output_type": "stream",
     "text": [
      "\n",
      "~~~~~~~~~~\n",
      " Temperature :\n",
      "        Date       Day  Temperature  Rainfall  Flyers  Price  Sales\n",
      "41  2/11/17  Saturday        212.0      0.91      35    0.5     21\n",
      "\n",
      "~~~~~~~~~~\n",
      " Rainfall :\n",
      "          Date      Day  Temperature  Rainfall  Flyers  Price  Sales\n",
      "0      1/1/17   Sunday         27.0      2.00      15    0.5     10\n",
      "338   12/5/17  Tuesday         22.0      1.82      11    0.5     10\n",
      "343  12/10/17   Sunday         31.3      1.82      15    0.5     11\n",
      "364  12/31/17   Sunday         15.1      2.50       9    0.5      7\n",
      "\n",
      "~~~~~~~~~~\n",
      " Flyers :\n",
      "          Date      Day  Temperature  Rainfall  Flyers  Price  Sales\n",
      "324  11/21/17  Tuesday         47.0      0.95     -38    0.5     20\n",
      "\n",
      "~~~~~~~~~~\n",
      " Price :\n",
      " Empty DataFrame\n",
      "Columns: [Date, Day, Temperature, Rainfall, Flyers, Price, Sales]\n",
      "Index: []\n",
      "\n",
      "~~~~~~~~~~\n",
      " Sales :\n",
      "        Date       Day  Temperature  Rainfall  Flyers  Price  Sales\n",
      "181  7/1/17  Saturday        102.9      0.47      59    0.5    143\n",
      "182  7/2/17    Sunday         93.4      0.51      68    0.5    158\n",
      "183  7/3/17    Monday         81.5      0.54      68    0.5    235\n",
      "184  7/4/17   Tuesday         84.2      0.59      49    0.5    534\n"
     ]
    },
    {
     "data": {
      "text/plain": [
       "[None, None, None, None, None]"
      ]
     },
     "execution_count": 17,
     "metadata": {},
     "output_type": "execute_result"
    }
   ],
   "source": [
    "[print('\\n~~~~~~~~~~\\n', key, ':\\n', outliers[key]['df']) for key in outliers]"
   ]
  },
  {
   "cell_type": "code",
   "execution_count": 18,
   "id": "e7e3d9cf",
   "metadata": {},
   "outputs": [
    {
     "name": "stdout",
     "output_type": "stream",
     "text": [
      " Lower bound for Temperature : -16.299999999999997\n",
      " Upper bound for Temperature: 137.7\n",
      "\n",
      "-----------------\n",
      " Lower bound for Rainfall : -0.13\n",
      " Upper bound for Rainfall: 1.69\n",
      "\n",
      "-----------------\n",
      " Lower bound for Flyers : -23.0\n",
      " Upper bound for Flyers: 103.0\n",
      "\n",
      "-----------------\n",
      " Lower bound for Price : 0.5\n",
      " Upper bound for Price: 0.5\n",
      "\n",
      "-----------------\n",
      " Lower bound for Sales : -10.0\n",
      " Upper bound for Sales: 60.0\n",
      "\n",
      "-----------------\n",
      " Lower bound for z_score_rainfall : -3.4903489384324433\n",
      " Upper bound for z_score_rainfall: 3.1546480517967437\n",
      "\n",
      "-----------------\n"
     ]
    }
   ],
   "source": [
    "df.describe()\n",
    "\n",
    "# at a multiplier of 3:\n",
    "outliers = {}\n",
    "for col in df.columns:\n",
    "    if np.issubdtype(df[col].dtype, np.number):\n",
    "        lower_bound, upper_bound = get_lower_and_upper_bounds(df[col], mult=3.0)\n",
    "        print(f' Lower bound for {col} : {lower_bound}\\n Upper bound for {col}: {upper_bound}\\n')\n",
    "        print('-----------------')\n",
    "        outliers[col] = {}\n",
    "        outliers[col]['bounds'] = {'upper': upper_bound, 'lower': lower_bound}\n",
    "        outliers[col]['df'] = df[(df[col] > upper_bound) | (df[col] < lower_bound)]\n",
    "    else:\n",
    "        pass"
   ]
  },
  {
   "cell_type": "code",
   "execution_count": 19,
   "id": "84a307b4",
   "metadata": {},
   "outputs": [
    {
     "name": "stdout",
     "output_type": "stream",
     "text": [
      "\n",
      "~~~~~~~~~~\n",
      " Temperature :\n",
      "        Date       Day  Temperature  Rainfall  Flyers  Price  Sales  \\\n",
      "41  2/11/17  Saturday        212.0      0.91      35    0.5     21   \n",
      "\n",
      "    z_score_rainfall  \n",
      "41          0.306792  \n",
      "\n",
      "~~~~~~~~~~\n",
      " Rainfall :\n",
      "          Date      Day  Temperature  Rainfall  Flyers  Price  Sales  \\\n",
      "0      1/1/17   Sunday         27.0      2.00      15    0.5     10   \n",
      "338   12/5/17  Tuesday         22.0      1.82      11    0.5     10   \n",
      "343  12/10/17   Sunday         31.3      1.82      15    0.5     11   \n",
      "364  12/31/17   Sunday         15.1      2.50       9    0.5      7   \n",
      "\n",
      "     z_score_rainfall  \n",
      "0            4.286488  \n",
      "338          3.629291  \n",
      "343          3.629291  \n",
      "364          6.112037  \n",
      "\n",
      "~~~~~~~~~~\n",
      " Flyers :\n",
      " Empty DataFrame\n",
      "Columns: [Date, Day, Temperature, Rainfall, Flyers, Price, Sales, z_score_rainfall]\n",
      "Index: []\n",
      "\n",
      "~~~~~~~~~~\n",
      " Price :\n",
      " Empty DataFrame\n",
      "Columns: [Date, Day, Temperature, Rainfall, Flyers, Price, Sales, z_score_rainfall]\n",
      "Index: []\n",
      "\n",
      "~~~~~~~~~~\n",
      " Sales :\n",
      "        Date       Day  Temperature  Rainfall  Flyers  Price  Sales  \\\n",
      "181  7/1/17  Saturday        102.9      0.47      59    0.5    143   \n",
      "182  7/2/17    Sunday         93.4      0.51      68    0.5    158   \n",
      "183  7/3/17    Monday         81.5      0.54      68    0.5    235   \n",
      "184  7/4/17   Tuesday         84.2      0.59      49    0.5    534   \n",
      "\n",
      "     z_score_rainfall  \n",
      "181         -1.299691  \n",
      "182         -1.153647  \n",
      "183         -1.044114  \n",
      "184         -0.861559  \n",
      "\n",
      "~~~~~~~~~~\n",
      " z_score_rainfall :\n",
      "          Date      Day  Temperature  Rainfall  Flyers  Price  Sales  \\\n",
      "0      1/1/17   Sunday         27.0      2.00      15    0.5     10   \n",
      "338   12/5/17  Tuesday         22.0      1.82      11    0.5     10   \n",
      "343  12/10/17   Sunday         31.3      1.82      15    0.5     11   \n",
      "364  12/31/17   Sunday         15.1      2.50       9    0.5      7   \n",
      "\n",
      "     z_score_rainfall  \n",
      "0            4.286488  \n",
      "338          3.629291  \n",
      "343          3.629291  \n",
      "364          6.112037  \n"
     ]
    },
    {
     "data": {
      "text/plain": [
       "[None, None, None, None, None, None]"
      ]
     },
     "execution_count": 19,
     "metadata": {},
     "output_type": "execute_result"
    }
   ],
   "source": [
    "[print('\\n~~~~~~~~~~\\n', key, ':\\n', outliers[key]['df']) for key in outliers]"
   ]
  },
  {
   "cell_type": "code",
   "execution_count": null,
   "id": "17cf3f66",
   "metadata": {},
   "outputs": [],
   "source": [
    "# things we will need to address/investigate:\n",
    "# extreme temperature error value\n",
    "# negative flyer error value\n",
    "# "
   ]
  },
  {
   "cell_type": "code",
   "execution_count": null,
   "id": "b0657150",
   "metadata": {},
   "outputs": [],
   "source": [
    "df['z_score_rainfall'] = (df['Rainfall'] - df['Rainfall'].mean()) / df['Rainfall'].std()"
   ]
  },
  {
   "cell_type": "code",
   "execution_count": null,
   "id": "22ff8a3c",
   "metadata": {},
   "outputs": [],
   "source": [
    "df.head()"
   ]
  },
  {
   "cell_type": "code",
   "execution_count": null,
   "id": "bf732f55",
   "metadata": {},
   "outputs": [],
   "source": [
    "df[df.z_score_rainfall.abs() > 3]"
   ]
  },
  {
   "cell_type": "code",
   "execution_count": null,
   "id": "fc9e628c",
   "metadata": {},
   "outputs": [],
   "source": [
    "df[df.Flyers < 0] "
   ]
  },
  {
   "cell_type": "code",
   "execution_count": null,
   "id": "230d51be",
   "metadata": {},
   "outputs": [],
   "source": [
    "df.loc['2017-11-19':'2017-11-23']"
   ]
  },
  {
   "cell_type": "code",
   "execution_count": null,
   "id": "cf6a9102",
   "metadata": {},
   "outputs": [],
   "source": [
    "df['Flyers'] = df['Flyers'].abs()"
   ]
  },
  {
   "cell_type": "code",
   "execution_count": null,
   "id": "c5643016",
   "metadata": {},
   "outputs": [],
   "source": [
    "df['Flyers'].hist()"
   ]
  },
  {
   "cell_type": "code",
   "execution_count": null,
   "id": "b19eb604",
   "metadata": {},
   "outputs": [],
   "source": [
    "df[df['Temperature'] > 200]"
   ]
  },
  {
   "cell_type": "code",
   "execution_count": null,
   "id": "ca066e02",
   "metadata": {},
   "outputs": [],
   "source": [
    "df.loc['2017-02-08': '2017-02-13']"
   ]
  },
  {
   "cell_type": "code",
   "execution_count": null,
   "id": "c737e708",
   "metadata": {},
   "outputs": [],
   "source": [
    "df.loc['2017-02-11', 'Temperature'] = df.loc['2017-02-10']['Temperature']"
   ]
  },
  {
   "cell_type": "code",
   "execution_count": null,
   "id": "7cecdefd",
   "metadata": {},
   "outputs": [],
   "source": [
    "df.loc['2017-02-11']"
   ]
  },
  {
   "cell_type": "code",
   "execution_count": null,
   "id": "4febcf40",
   "metadata": {},
   "outputs": [],
   "source": [
    "df[df['Temperature'] > 200]"
   ]
  },
  {
   "cell_type": "code",
   "execution_count": 13,
   "id": "79955296",
   "metadata": {},
   "outputs": [
    {
     "name": "stdout",
     "output_type": "stream",
     "text": [
      "\n",
      "~~~~~~~~~~\n",
      " Temperature :\n",
      "          Date       Day  Temperature  Rainfall  Flyers  Price  Sales\n",
      "41    2/11/17  Saturday        212.0      0.91      35    0.5     21\n",
      "364  12/31/17    Sunday         15.1      2.50       9    0.5      7\n",
      "\n",
      "~~~~~~~~~~\n",
      " Rainfall :\n",
      "          Date        Day  Temperature  Rainfall  Flyers  Price  Sales\n",
      "0      1/1/17     Sunday         27.0      2.00      15    0.5     10\n",
      "1      1/2/17     Monday         28.9      1.33      15    0.5     13\n",
      "2      1/3/17    Tuesday         34.5      1.33      27    0.5     15\n",
      "5      1/6/17     Friday         25.3      1.54      23    0.5     11\n",
      "6      1/7/17   Saturday         32.9      1.54      19    0.5     13\n",
      "10    1/11/17  Wednesday         32.6      1.54      23    0.5     12\n",
      "11    1/12/17   Thursday         38.2      1.33      16    0.5     14\n",
      "12    1/13/17     Friday         37.5      1.33      19    0.5     15\n",
      "15    1/16/17     Monday         30.6      1.67      24    0.5     12\n",
      "16    1/17/17    Tuesday         32.2      1.43      26    0.5     14\n",
      "19    1/20/17     Friday         31.6      1.43      20    0.5     12\n",
      "23    1/24/17    Tuesday         28.6      1.54      20    0.5     12\n",
      "27    1/28/17   Saturday         34.9      1.33      15    0.5     13\n",
      "28    1/29/17     Sunday         35.2      1.33      27    0.5     14\n",
      "337   12/4/17     Monday         34.9      1.54      16    0.5     13\n",
      "338   12/5/17    Tuesday         22.0      1.82      11    0.5     10\n",
      "342   12/9/17   Saturday         31.2      1.43      19    0.5     14\n",
      "343  12/10/17     Sunday         31.3      1.82      15    0.5     11\n",
      "345  12/12/17    Tuesday         33.5      1.33      22    0.5     15\n",
      "346  12/13/17  Wednesday         32.2      1.43      26    0.5     14\n",
      "347  12/14/17   Thursday         31.9      1.54      24    0.5     13\n",
      "350  12/17/17     Sunday         32.2      1.33      16    0.5     14\n",
      "351  12/18/17     Monday         30.9      1.43      27    0.5     13\n",
      "354  12/21/17   Thursday         40.5      1.33      23    0.5     15\n",
      "355  12/22/17     Friday         30.9      1.54      17    0.5     13\n",
      "359  12/26/17    Tuesday         28.9      1.43      23    0.5     13\n",
      "363  12/30/17   Saturday         30.9      1.43      22    0.5     13\n",
      "364  12/31/17     Sunday         15.1      2.50       9    0.5      7\n",
      "\n",
      "~~~~~~~~~~\n",
      " Flyers :\n",
      "          Date      Day  Temperature  Rainfall  Flyers  Price  Sales\n",
      "166   6/16/17   Friday         99.3      0.47      77    0.5     41\n",
      "194   7/14/17   Friday         92.0      0.50      80    0.5     40\n",
      "324  11/21/17  Tuesday         47.0      0.95     -38    0.5     20\n",
      "\n",
      "~~~~~~~~~~\n",
      " Price :\n",
      " Empty DataFrame\n",
      "Columns: [Date, Day, Temperature, Rainfall, Flyers, Price, Sales]\n",
      "Index: []\n",
      "\n",
      "~~~~~~~~~~\n",
      " Sales :\n",
      "        Date       Day  Temperature  Rainfall  Flyers  Price  Sales\n",
      "181  7/1/17  Saturday        102.9      0.47      59    0.5    143\n",
      "182  7/2/17    Sunday         93.4      0.51      68    0.5    158\n",
      "183  7/3/17    Monday         81.5      0.54      68    0.5    235\n",
      "184  7/4/17   Tuesday         84.2      0.59      49    0.5    534\n",
      " Lower bound for Temperature : -16.299999999999997\n",
      " Upper bound for Temperature: 137.7\n",
      "\n",
      "-----------------\n",
      " Lower bound for Rainfall : -0.13\n",
      " Upper bound for Rainfall: 1.69\n",
      "\n",
      "-----------------\n",
      " Lower bound for Flyers : -23.0\n",
      " Upper bound for Flyers: 103.0\n",
      "\n",
      "-----------------\n",
      " Lower bound for Price : 0.5\n",
      " Upper bound for Price: 0.5\n",
      "\n",
      "-----------------\n",
      " Lower bound for Sales : -10.0\n",
      " Upper bound for Sales: 60.0\n",
      "\n",
      "-----------------\n",
      "\n",
      "~~~~~~~~~~\n",
      " Temperature :\n",
      "        Date       Day  Temperature  Rainfall  Flyers  Price  Sales\n",
      "41  2/11/17  Saturday        212.0      0.91      35    0.5     21\n",
      "\n",
      "~~~~~~~~~~\n",
      " Rainfall :\n",
      "          Date      Day  Temperature  Rainfall  Flyers  Price  Sales\n",
      "0      1/1/17   Sunday         27.0      2.00      15    0.5     10\n",
      "338   12/5/17  Tuesday         22.0      1.82      11    0.5     10\n",
      "343  12/10/17   Sunday         31.3      1.82      15    0.5     11\n",
      "364  12/31/17   Sunday         15.1      2.50       9    0.5      7\n",
      "\n",
      "~~~~~~~~~~\n",
      " Flyers :\n",
      "          Date      Day  Temperature  Rainfall  Flyers  Price  Sales\n",
      "324  11/21/17  Tuesday         47.0      0.95     -38    0.5     20\n",
      "\n",
      "~~~~~~~~~~\n",
      " Price :\n",
      " Empty DataFrame\n",
      "Columns: [Date, Day, Temperature, Rainfall, Flyers, Price, Sales]\n",
      "Index: []\n",
      "\n",
      "~~~~~~~~~~\n",
      " Sales :\n",
      "        Date       Day  Temperature  Rainfall  Flyers  Price  Sales\n",
      "181  7/1/17  Saturday        102.9      0.47      59    0.5    143\n",
      "182  7/2/17    Sunday         93.4      0.51      68    0.5    158\n",
      "183  7/3/17    Monday         81.5      0.54      68    0.5    235\n",
      "184  7/4/17   Tuesday         84.2      0.59      49    0.5    534\n"
     ]
    },
    {
     "ename": "KeyError",
     "evalue": "'2017-02-10'",
     "output_type": "error",
     "traceback": [
      "\u001b[0;31m---------------------------------------------------------------------------\u001b[0m",
      "\u001b[0;31mKeyError\u001b[0m                                  Traceback (most recent call last)",
      "\u001b[0;32m<ipython-input-13-f8068ab41cdb>\u001b[0m in \u001b[0;36m<module>\u001b[0;34m\u001b[0m\n\u001b[1;32m     49\u001b[0m \u001b[0mdf\u001b[0m\u001b[0;34m.\u001b[0m\u001b[0mloc\u001b[0m\u001b[0;34m[\u001b[0m\u001b[0;34m'2017-02-08'\u001b[0m\u001b[0;34m:\u001b[0m \u001b[0;34m'2017-02-13'\u001b[0m\u001b[0;34m]\u001b[0m\u001b[0;34m\u001b[0m\u001b[0;34m\u001b[0m\u001b[0m\n\u001b[1;32m     50\u001b[0m \u001b[0;34m\u001b[0m\u001b[0m\n\u001b[0;32m---> 51\u001b[0;31m \u001b[0mdf\u001b[0m\u001b[0;34m.\u001b[0m\u001b[0mloc\u001b[0m\u001b[0;34m[\u001b[0m\u001b[0;34m'2017-02-11'\u001b[0m\u001b[0;34m,\u001b[0m \u001b[0;34m'Temperature'\u001b[0m\u001b[0;34m]\u001b[0m \u001b[0;34m=\u001b[0m \u001b[0mdf\u001b[0m\u001b[0;34m.\u001b[0m\u001b[0mloc\u001b[0m\u001b[0;34m[\u001b[0m\u001b[0;34m'2017-02-10'\u001b[0m\u001b[0;34m]\u001b[0m\u001b[0;34m[\u001b[0m\u001b[0;34m'Temperature'\u001b[0m\u001b[0;34m]\u001b[0m\u001b[0;34m\u001b[0m\u001b[0;34m\u001b[0m\u001b[0m\n\u001b[0m\u001b[1;32m     52\u001b[0m \u001b[0;34m\u001b[0m\u001b[0m\n\u001b[1;32m     53\u001b[0m \u001b[0mdf\u001b[0m\u001b[0;34m.\u001b[0m\u001b[0mloc\u001b[0m\u001b[0;34m[\u001b[0m\u001b[0;34m'2017-02-11'\u001b[0m\u001b[0;34m]\u001b[0m\u001b[0;34m\u001b[0m\u001b[0;34m\u001b[0m\u001b[0m\n",
      "\u001b[0;32m/usr/local/anaconda3/lib/python3.8/site-packages/pandas/core/indexing.py\u001b[0m in \u001b[0;36m__getitem__\u001b[0;34m(self, key)\u001b[0m\n\u001b[1;32m    893\u001b[0m \u001b[0;34m\u001b[0m\u001b[0m\n\u001b[1;32m    894\u001b[0m             \u001b[0mmaybe_callable\u001b[0m \u001b[0;34m=\u001b[0m \u001b[0mcom\u001b[0m\u001b[0;34m.\u001b[0m\u001b[0mapply_if_callable\u001b[0m\u001b[0;34m(\u001b[0m\u001b[0mkey\u001b[0m\u001b[0;34m,\u001b[0m \u001b[0mself\u001b[0m\u001b[0;34m.\u001b[0m\u001b[0mobj\u001b[0m\u001b[0;34m)\u001b[0m\u001b[0;34m\u001b[0m\u001b[0;34m\u001b[0m\u001b[0m\n\u001b[0;32m--> 895\u001b[0;31m             \u001b[0;32mreturn\u001b[0m \u001b[0mself\u001b[0m\u001b[0;34m.\u001b[0m\u001b[0m_getitem_axis\u001b[0m\u001b[0;34m(\u001b[0m\u001b[0mmaybe_callable\u001b[0m\u001b[0;34m,\u001b[0m \u001b[0maxis\u001b[0m\u001b[0;34m=\u001b[0m\u001b[0maxis\u001b[0m\u001b[0;34m)\u001b[0m\u001b[0;34m\u001b[0m\u001b[0;34m\u001b[0m\u001b[0m\n\u001b[0m\u001b[1;32m    896\u001b[0m \u001b[0;34m\u001b[0m\u001b[0m\n\u001b[1;32m    897\u001b[0m     \u001b[0;32mdef\u001b[0m \u001b[0m_is_scalar_access\u001b[0m\u001b[0;34m(\u001b[0m\u001b[0mself\u001b[0m\u001b[0;34m,\u001b[0m \u001b[0mkey\u001b[0m\u001b[0;34m:\u001b[0m \u001b[0mTuple\u001b[0m\u001b[0;34m)\u001b[0m\u001b[0;34m:\u001b[0m\u001b[0;34m\u001b[0m\u001b[0;34m\u001b[0m\u001b[0m\n",
      "\u001b[0;32m/usr/local/anaconda3/lib/python3.8/site-packages/pandas/core/indexing.py\u001b[0m in \u001b[0;36m_getitem_axis\u001b[0;34m(self, key, axis)\u001b[0m\n\u001b[1;32m   1122\u001b[0m         \u001b[0;31m# fall thru to straight lookup\u001b[0m\u001b[0;34m\u001b[0m\u001b[0;34m\u001b[0m\u001b[0;34m\u001b[0m\u001b[0m\n\u001b[1;32m   1123\u001b[0m         \u001b[0mself\u001b[0m\u001b[0;34m.\u001b[0m\u001b[0m_validate_key\u001b[0m\u001b[0;34m(\u001b[0m\u001b[0mkey\u001b[0m\u001b[0;34m,\u001b[0m \u001b[0maxis\u001b[0m\u001b[0;34m)\u001b[0m\u001b[0;34m\u001b[0m\u001b[0;34m\u001b[0m\u001b[0m\n\u001b[0;32m-> 1124\u001b[0;31m         \u001b[0;32mreturn\u001b[0m \u001b[0mself\u001b[0m\u001b[0;34m.\u001b[0m\u001b[0m_get_label\u001b[0m\u001b[0;34m(\u001b[0m\u001b[0mkey\u001b[0m\u001b[0;34m,\u001b[0m \u001b[0maxis\u001b[0m\u001b[0;34m=\u001b[0m\u001b[0maxis\u001b[0m\u001b[0;34m)\u001b[0m\u001b[0;34m\u001b[0m\u001b[0;34m\u001b[0m\u001b[0m\n\u001b[0m\u001b[1;32m   1125\u001b[0m \u001b[0;34m\u001b[0m\u001b[0m\n\u001b[1;32m   1126\u001b[0m     \u001b[0;32mdef\u001b[0m \u001b[0m_get_slice_axis\u001b[0m\u001b[0;34m(\u001b[0m\u001b[0mself\u001b[0m\u001b[0;34m,\u001b[0m \u001b[0mslice_obj\u001b[0m\u001b[0;34m:\u001b[0m \u001b[0mslice\u001b[0m\u001b[0;34m,\u001b[0m \u001b[0maxis\u001b[0m\u001b[0;34m:\u001b[0m \u001b[0mint\u001b[0m\u001b[0;34m)\u001b[0m\u001b[0;34m:\u001b[0m\u001b[0;34m\u001b[0m\u001b[0;34m\u001b[0m\u001b[0m\n",
      "\u001b[0;32m/usr/local/anaconda3/lib/python3.8/site-packages/pandas/core/indexing.py\u001b[0m in \u001b[0;36m_get_label\u001b[0;34m(self, label, axis)\u001b[0m\n\u001b[1;32m   1071\u001b[0m     \u001b[0;32mdef\u001b[0m \u001b[0m_get_label\u001b[0m\u001b[0;34m(\u001b[0m\u001b[0mself\u001b[0m\u001b[0;34m,\u001b[0m \u001b[0mlabel\u001b[0m\u001b[0;34m,\u001b[0m \u001b[0maxis\u001b[0m\u001b[0;34m:\u001b[0m \u001b[0mint\u001b[0m\u001b[0;34m)\u001b[0m\u001b[0;34m:\u001b[0m\u001b[0;34m\u001b[0m\u001b[0;34m\u001b[0m\u001b[0m\n\u001b[1;32m   1072\u001b[0m         \u001b[0;31m# GH#5667 this will fail if the label is not present in the axis.\u001b[0m\u001b[0;34m\u001b[0m\u001b[0;34m\u001b[0m\u001b[0;34m\u001b[0m\u001b[0m\n\u001b[0;32m-> 1073\u001b[0;31m         \u001b[0;32mreturn\u001b[0m \u001b[0mself\u001b[0m\u001b[0;34m.\u001b[0m\u001b[0mobj\u001b[0m\u001b[0;34m.\u001b[0m\u001b[0mxs\u001b[0m\u001b[0;34m(\u001b[0m\u001b[0mlabel\u001b[0m\u001b[0;34m,\u001b[0m \u001b[0maxis\u001b[0m\u001b[0;34m=\u001b[0m\u001b[0maxis\u001b[0m\u001b[0;34m)\u001b[0m\u001b[0;34m\u001b[0m\u001b[0;34m\u001b[0m\u001b[0m\n\u001b[0m\u001b[1;32m   1074\u001b[0m \u001b[0;34m\u001b[0m\u001b[0m\n\u001b[1;32m   1075\u001b[0m     \u001b[0;32mdef\u001b[0m \u001b[0m_handle_lowerdim_multi_index_axis0\u001b[0m\u001b[0;34m(\u001b[0m\u001b[0mself\u001b[0m\u001b[0;34m,\u001b[0m \u001b[0mtup\u001b[0m\u001b[0;34m:\u001b[0m \u001b[0mTuple\u001b[0m\u001b[0;34m)\u001b[0m\u001b[0;34m:\u001b[0m\u001b[0;34m\u001b[0m\u001b[0;34m\u001b[0m\u001b[0m\n",
      "\u001b[0;32m/usr/local/anaconda3/lib/python3.8/site-packages/pandas/core/generic.py\u001b[0m in \u001b[0;36mxs\u001b[0;34m(self, key, axis, level, drop_level)\u001b[0m\n\u001b[1;32m   3737\u001b[0m                 \u001b[0;32mraise\u001b[0m \u001b[0mTypeError\u001b[0m\u001b[0;34m(\u001b[0m\u001b[0;34mf\"Expected label or tuple of labels, got {key}\"\u001b[0m\u001b[0;34m)\u001b[0m \u001b[0;32mfrom\u001b[0m \u001b[0me\u001b[0m\u001b[0;34m\u001b[0m\u001b[0;34m\u001b[0m\u001b[0m\n\u001b[1;32m   3738\u001b[0m         \u001b[0;32melse\u001b[0m\u001b[0;34m:\u001b[0m\u001b[0;34m\u001b[0m\u001b[0;34m\u001b[0m\u001b[0m\n\u001b[0;32m-> 3739\u001b[0;31m             \u001b[0mloc\u001b[0m \u001b[0;34m=\u001b[0m \u001b[0mindex\u001b[0m\u001b[0;34m.\u001b[0m\u001b[0mget_loc\u001b[0m\u001b[0;34m(\u001b[0m\u001b[0mkey\u001b[0m\u001b[0;34m)\u001b[0m\u001b[0;34m\u001b[0m\u001b[0;34m\u001b[0m\u001b[0m\n\u001b[0m\u001b[1;32m   3740\u001b[0m \u001b[0;34m\u001b[0m\u001b[0m\n\u001b[1;32m   3741\u001b[0m             \u001b[0;32mif\u001b[0m \u001b[0misinstance\u001b[0m\u001b[0;34m(\u001b[0m\u001b[0mloc\u001b[0m\u001b[0;34m,\u001b[0m \u001b[0mnp\u001b[0m\u001b[0;34m.\u001b[0m\u001b[0mndarray\u001b[0m\u001b[0;34m)\u001b[0m\u001b[0;34m:\u001b[0m\u001b[0;34m\u001b[0m\u001b[0;34m\u001b[0m\u001b[0m\n",
      "\u001b[0;32m/usr/local/anaconda3/lib/python3.8/site-packages/pandas/core/indexes/range.py\u001b[0m in \u001b[0;36mget_loc\u001b[0;34m(self, key, method, tolerance)\u001b[0m\n\u001b[1;32m    352\u001b[0m                 \u001b[0;32mexcept\u001b[0m \u001b[0mValueError\u001b[0m \u001b[0;32mas\u001b[0m \u001b[0merr\u001b[0m\u001b[0;34m:\u001b[0m\u001b[0;34m\u001b[0m\u001b[0;34m\u001b[0m\u001b[0m\n\u001b[1;32m    353\u001b[0m                     \u001b[0;32mraise\u001b[0m \u001b[0mKeyError\u001b[0m\u001b[0;34m(\u001b[0m\u001b[0mkey\u001b[0m\u001b[0;34m)\u001b[0m \u001b[0;32mfrom\u001b[0m \u001b[0merr\u001b[0m\u001b[0;34m\u001b[0m\u001b[0;34m\u001b[0m\u001b[0m\n\u001b[0;32m--> 354\u001b[0;31m             \u001b[0;32mraise\u001b[0m \u001b[0mKeyError\u001b[0m\u001b[0;34m(\u001b[0m\u001b[0mkey\u001b[0m\u001b[0;34m)\u001b[0m\u001b[0;34m\u001b[0m\u001b[0;34m\u001b[0m\u001b[0m\n\u001b[0m\u001b[1;32m    355\u001b[0m         \u001b[0;32mreturn\u001b[0m \u001b[0msuper\u001b[0m\u001b[0;34m(\u001b[0m\u001b[0;34m)\u001b[0m\u001b[0;34m.\u001b[0m\u001b[0mget_loc\u001b[0m\u001b[0;34m(\u001b[0m\u001b[0mkey\u001b[0m\u001b[0;34m,\u001b[0m \u001b[0mmethod\u001b[0m\u001b[0;34m=\u001b[0m\u001b[0mmethod\u001b[0m\u001b[0;34m,\u001b[0m \u001b[0mtolerance\u001b[0m\u001b[0;34m=\u001b[0m\u001b[0mtolerance\u001b[0m\u001b[0;34m)\u001b[0m\u001b[0;34m\u001b[0m\u001b[0;34m\u001b[0m\u001b[0m\n\u001b[1;32m    356\u001b[0m \u001b[0;34m\u001b[0m\u001b[0m\n",
      "\u001b[0;31mKeyError\u001b[0m: '2017-02-10'"
     ]
    },
    {
     "data": {
      "image/png": "[encoded data removed]",
      "text/plain": [
       "<Figure size 432x288 with 1 Axes>"
      ]
     },
     "metadata": {
      "needs_background": "light"
     },
     "output_type": "display_data"
    }
   ],
   "source": [
    "df.describe()"
   ]
  },
  {
   "cell_type": "markdown",
   "id": "6569ac7f",
   "metadata": {},
   "source": [
    "# Use the IQR Range Rule and the upper and upper bounds to identify the upper outliers of each column of lemonade.csv, using the multiplier of 1.5. Do these upper outliers make sense? Which outliers should be kept?"
   ]
  },
  {
   "cell_type": "code",
   "execution_count": null,
   "id": "1e065245",
   "metadata": {},
   "outputs": [],
   "source": []
  },
  {
   "cell_type": "markdown",
   "id": "8790138d",
   "metadata": {},
   "source": [
    "# Using the multiplier of 3, IQR Range Rule, and the lower bounds, identify the outliers below the lower bound in each colum of lemonade.csv. Do these lower outliers make sense? Which outliers should be kept?"
   ]
  },
  {
   "cell_type": "code",
   "execution_count": null,
   "id": "c8f044df",
   "metadata": {},
   "outputs": [],
   "source": []
  },
  {
   "cell_type": "markdown",
   "id": "501c95b8",
   "metadata": {},
   "source": [
    "# Using the multiplier of 3, IQR Range Rule, and the upper bounds, identify the outliers above the upper_bound in each colum of lemonade.csv. Do these upper outliers make sense? Which outliers should be kept?"
   ]
  },
  {
   "cell_type": "code",
   "execution_count": null,
   "id": "d7b5334c",
   "metadata": {},
   "outputs": [],
   "source": []
  },
  {
   "cell_type": "markdown",
   "id": "3368d38d",
   "metadata": {},
   "source": [
    "# Identify if any columns in lemonade.csv are normally distributed. For normally distributed columns:"
   ]
  },
  {
   "cell_type": "code",
   "execution_count": null,
   "id": "3008b2d2",
   "metadata": {},
   "outputs": [],
   "source": []
  },
  {
   "cell_type": "markdown",
   "id": "bee85e71",
   "metadata": {},
   "source": [
    "# Use a 2 sigma decision rule to isolate the outliers."
   ]
  },
  {
   "cell_type": "markdown",
   "id": "55dc4459",
   "metadata": {},
   "source": [
    "# Do these make sense?"
   ]
  },
  {
   "cell_type": "code",
   "execution_count": null,
   "id": "30d2d719",
   "metadata": {},
   "outputs": [],
   "source": []
  },
  {
   "cell_type": "markdown",
   "id": "fd83ee99",
   "metadata": {},
   "source": [
    "# Should certain outliers be kept or removed?"
   ]
  },
  {
   "cell_type": "code",
   "execution_count": null,
   "id": "68a3c41b",
   "metadata": {},
   "outputs": [],
   "source": []
  },
  {
   "cell_type": "markdown",
   "id": "6237893c",
   "metadata": {},
   "source": [
    "# Now use a 3 sigma decision rule to isolate the outliers in the normally distributed columns from lemonade.csv"
   ]
  },
  {
   "cell_type": "code",
   "execution_count": null,
   "id": "68a20f23",
   "metadata": {},
   "outputs": [],
   "source": []
  }
 ],
 "metadata": {
  "kernelspec": {
   "display_name": "Python 3",
   "language": "python",
   "name": "python3"
  },
  "language_info": {
   "codemirror_mode": {
    "name": "ipython",
    "version": 3
   },
   "file_extension": ".py",
   "mimetype": "text/x-python",
   "name": "python",
   "nbconvert_exporter": "python",
   "pygments_lexer": "ipython3",
   "version": "3.8.8"
  }
 },
 "nbformat": 4,
 "nbformat_minor": 5
}
