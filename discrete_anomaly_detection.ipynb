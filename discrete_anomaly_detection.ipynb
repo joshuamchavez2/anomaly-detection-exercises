{
 "cells": [
  {
   "cell_type": "code",
   "execution_count": 4,
   "id": "f2d33cfb",
   "metadata": {},
   "outputs": [],
   "source": [
    "import matplotlib.pyplot as plt\n",
    "import numpy as np\n",
    "import pandas as pd\n",
    "import seaborn as sns\n",
    "from sklearn import metrics\n",
    "import env"
   ]
  },
  {
   "cell_type": "code",
   "execution_count": 5,
   "id": "f530197f",
   "metadata": {},
   "outputs": [],
   "source": [
    "# function to deal with parsing one entry in our log data\n",
    "def parse_log_entry(entry):\n",
    "    parts = entry.split()\n",
    "    output = {}\n",
    "    output['ip'] = parts[0]\n",
    "    output['timestamp'] = parts[3][1:].replace(':', ' ', 1)\n",
    "    output['request_method'] = parts[5][1:]\n",
    "    output['request_path'] = parts[6]\n",
    "    output['http_version'] = parts[7][:-1]\n",
    "    output['status_code'] = parts[8]\n",
    "    output['size'] = int(parts[9])\n",
    "    output['user_agent'] = ' '.join(parts[11:]).replace('\"', '')\n",
    "    return pd.Series(output)"
   ]
  },
  {
   "cell_type": "code",
   "execution_count": 6,
   "id": "3808f66c",
   "metadata": {},
   "outputs": [],
   "source": [
    "url = f'mysql+pymysql://{env.user}:{env.password}@{env.host}/logs'\n",
    "df = pd.read_sql('SELECT * FROM api_access', url)\n",
    "df = df.entry.apply(parse_log_entry)"
   ]
  },
  {
   "cell_type": "code",
   "execution_count": 7,
   "id": "45fd3cf8",
   "metadata": {},
   "outputs": [
    {
     "data": {
      "text/plain": [
       "<AxesSubplot:title={'center':'Top 10 Most Commonly Requested Pages'}>"
      ]
     },
     "execution_count": 7,
     "metadata": {},
     "output_type": "execute_result"
    },
    {
     "data": {
      "image/png": "[encoded data removed]",
      "text/plain": [
       "<Figure size 432x288 with 1 Axes>"
      ]
     },
     "metadata": {
      "needs_background": "light"
     },
     "output_type": "display_data"
    }
   ],
   "source": [
    "# Synthetic data\n",
    "new = pd.DataFrame([\n",
    "    [\"95.31.18.119\", \"21/Apr/2019 10:02:41\", \"GET\", \"/api/v1/items/\", \"HTTP/1.1\", '200', 1153005, \"python-requests/2.21.0\"],\n",
    "    [\"95.31.16.121\", \"17/Apr/2019 19:36:41\", \"GET\", \"/api/v1/sales?page=79/\", \"HTTP/1.1\", '301', 1005, \"python-requests/2.21.0\"],\n",
    "    [\"97.105.15.120\", \"18/Apr/2019 19:42:41\", \"GET\", \"/api/v1/sales?page=79/\", \"HTTP/1.1\", '301', 2560, \"python-requests/2.21.0\"],\n",
    "    [\"97.105.19.58\", \"19/Apr/2019 19:42:41\", \"GET\", \"/api/v1/sales?page=79/\", \"HTTP/1.1\", '200', 2056327, \"python-requests/2.21.0\"],\n",
    "], columns=df.columns)\n",
    "\n",
    "df = df.append(new)\n",
    "\n",
    "df['size_mb'] = df['size'] / 1024 / 1024\n",
    "df.timestamp = pd.to_datetime(df.timestamp, utc=True)\n",
    "df = df.set_index('timestamp')\n",
    "df.head()\n",
    "\n",
    "request_path_and_params = df.request_path.str.split('?', expand=True)\n",
    "request_path_and_params.columns = ['request_path', 'request_params']\n",
    "df = df.drop(columns='request_path').join(request_path_and_params)\n",
    "\n",
    "df.request_params.value_counts().head(10).plot.barh(\n",
    "    title='Top 10 Most Commonly Requested Pages',\n",
    ")"
   ]
  },
  {
   "cell_type": "markdown",
   "id": "fef4307e",
   "metadata": {},
   "source": [
    "    Interesting that page 2 is the most requested, and page 1 is the #3. Also page 183 makes the top 10."
   ]
  },
  {
   "cell_type": "code",
   "execution_count": null,
   "id": "7fa21ab2",
   "metadata": {},
   "outputs": [],
   "source": [
    "df = df.tz_convert('America/Chicago')\n",
    "df['hour'] = df.index.hour\n",
    "df['weekday'] = df.index.day_name()\n",
    "\n",
    "df.hour.value_counts().sort_index().plot.bar(title='Which hours are the most active?')"
   ]
  },
  {
   "cell_type": "markdown",
   "id": "c5ff634c",
   "metadata": {},
   "source": [
    "    The afternoon seems to be the most common time, followed by the evening"
   ]
  },
  {
   "cell_type": "code",
   "execution_count": null,
   "id": "0cb20857",
   "metadata": {},
   "outputs": [],
   "source": [
    "df.groupby('hour').request_params.value_counts(normalize=True).sort_values()"
   ]
  },
  {
   "cell_type": "code",
   "execution_count": null,
   "id": "0da109be",
   "metadata": {},
   "outputs": [],
   "source": [
    "* Whoever is working very early in the morning only requested page 1\n",
    "* At 7:00 people either request page 2 or 3"
   ]
  },
  {
   "cell_type": "code",
   "execution_count": 9,
   "id": "d4772d4d",
   "metadata": {},
   "outputs": [
    {
     "ename": "SyntaxError",
     "evalue": "invalid syntax (<ipython-input-9-00e881188602>, line 3)",
     "output_type": "error",
     "traceback": [
      "\u001b[0;36m  File \u001b[0;32m\"<ipython-input-9-00e881188602>\"\u001b[0;36m, line \u001b[0;32m3\u001b[0m\n\u001b[0;31m    * Whoever is working very early in the morning only requested page 1\u001b[0m\n\u001b[0m              ^\u001b[0m\n\u001b[0;31mSyntaxError\u001b[0m\u001b[0;31m:\u001b[0m invalid syntax\n"
     ]
    }
   ],
   "source": [
    "df.groupby('request_params').hour.value_counts(normalize=True).sort_values()\n",
    "\n",
    "The requests to pages that don't exist only happened at 2:00.\n",
    "\n",
    "df.groupby('weekday').request_params.value_counts(normalize=True)"
   ]
  },
  {
   "cell_type": "markdown",
   "id": "5038e941",
   "metadata": {},
   "source": [
    "    There's a couple requests for page 79 on thursday and friday."
   ]
  },
  {
   "cell_type": "code",
   "execution_count": null,
   "id": "1a1ff29e",
   "metadata": {},
   "outputs": [],
   "source": []
  }
 ],
 "metadata": {
  "kernelspec": {
   "display_name": "Python 3",
   "language": "python",
   "name": "python3"
  },
  "language_info": {
   "codemirror_mode": {
    "name": "ipython",
    "version": 3
   },
   "file_extension": ".py",
   "mimetype": "text/x-python",
   "name": "python",
   "nbconvert_exporter": "python",
   "pygments_lexer": "ipython3",
   "version": "3.8.8"
  }
 },
 "nbformat": 4,
 "nbformat_minor": 5
}
